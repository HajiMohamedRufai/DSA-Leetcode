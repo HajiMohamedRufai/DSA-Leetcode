{
 "cells": [
  {
   "cell_type": "code",
   "execution_count": 2,
   "metadata": {},
   "outputs": [
    {
     "name": "stdout",
     "output_type": "stream",
     "text": [
      "Hello\n"
     ]
    }
   ],
   "source": [
    "print(\"Hello\")"
   ]
  },
  {
   "cell_type": "markdown",
   "metadata": {},
   "source": [
    "# Hashmap"
   ]
  },
  {
   "cell_type": "code",
   "execution_count": 6,
   "metadata": {},
   "outputs": [
    {
     "name": "stdout",
     "output_type": "stream",
     "text": [
      "True is Something\n",
      "-1 is Something\n",
      "2 is Something\n"
     ]
    }
   ],
   "source": [
    "# check None, False, True\n",
    "var = None\n",
    "if var:\n",
    "    print(\"None is Something\")\n",
    "\n",
    "var = False\n",
    "if var:\n",
    "    print(\"False is Something\")\n",
    "\n",
    "var = True\n",
    "if var:\n",
    "    print(\"True is Something\")\n",
    "\n",
    "var = -1\n",
    "if var:\n",
    "    print(\"-1 is Something\")\n",
    "\n",
    "var = 2\n",
    "if var:\n",
    "    print(\"2 is Something\")\n",
    "\n"
   ]
  },
  {
   "cell_type": "code",
   "execution_count": 7,
   "metadata": {},
   "outputs": [
    {
     "name": "stdout",
     "output_type": "stream",
     "text": [
      "[None, None, None, None, None]\n"
     ]
    }
   ],
   "source": [
    "example = [None] * 5\n",
    "print(example)"
   ]
  },
  {
   "cell_type": "code",
   "execution_count": 13,
   "metadata": {},
   "outputs": [
    {
     "name": "stdout",
     "output_type": "stream",
     "text": [
      "Not Empty\n",
      "[None] is Not Empty\n"
     ]
    }
   ],
   "source": [
    "if example:\n",
    "    print(\"Not Empty\")\n",
    "if None:\n",
    "    print(\"None is Something\")\n",
    "if [None]:\n",
    "    print(\"[None] is Not Empty\")\n",
    "for val in example:\n",
    "    if val:\n",
    "        print(val)"
   ]
  },
  {
   "cell_type": "code",
   "execution_count": null,
   "metadata": {},
   "outputs": [],
   "source": []
  }
 ],
 "metadata": {
  "kernelspec": {
   "display_name": "base",
   "language": "python",
   "name": "python3"
  },
  "language_info": {
   "codemirror_mode": {
    "name": "ipython",
    "version": 3
   },
   "file_extension": ".py",
   "mimetype": "text/x-python",
   "name": "python",
   "nbconvert_exporter": "python",
   "pygments_lexer": "ipython3",
   "version": "3.11.5"
  }
 },
 "nbformat": 4,
 "nbformat_minor": 2
}
